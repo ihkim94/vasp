{
 "cells": [
  {
   "cell_type": "code",
   "execution_count": 2,
   "metadata": {},
   "outputs": [
    {
     "ename": "ImportError",
     "evalue": "\n\nIMPORTANT: PLEASE READ THIS FOR ADVICE ON HOW TO SOLVE THIS ISSUE!\n\nImporting the numpy C-extensions failed. This error can happen for\nmany reasons, often due to issues with your setup or how NumPy was\ninstalled.\n\nWe have compiled some common reasons and troubleshooting tips at:\n\n    https://numpy.org/devdocs/user/troubleshooting-importerror.html\n\nPlease note and check the following:\n\n  * The Python version is: Python3.10 from \"/Users/inhwankim/miniconda3/envs/pymatgen/bin/python\"\n  * The NumPy version is: \"1.23.1\"\n\nand make sure that they are the versions you expect.\nPlease carefully study the documentation linked above for further help.\n\nOriginal error was: dlopen(/Users/inhwankim/miniconda3/envs/pymatgen/lib/python3.10/site-packages/numpy/core/_multiarray_umath.cpython-310-darwin.so, 0x0002): Library not loaded: @rpath/libcblas.3.dylib\n  Referenced from: /Users/inhwankim/miniconda3/envs/pymatgen/lib/python3.10/site-packages/numpy/core/_multiarray_umath.cpython-310-darwin.so\n  Reason: tried: '/Users/inhwankim/miniconda3/envs/pymatgen/lib/python3.10/site-packages/numpy/core/../../../../libcblas.3.dylib' (no such file), '/Users/inhwankim/miniconda3/envs/pymatgen/lib/python3.10/site-packages/numpy/core/../../../../libcblas.3.dylib' (no such file), '/Users/inhwankim/miniconda3/envs/pymatgen/bin/../lib/libcblas.3.dylib' (no such file), '/Users/inhwankim/miniconda3/envs/pymatgen/bin/../lib/libcblas.3.dylib' (no such file), '/usr/local/lib/libcblas.3.dylib' (no such file), '/usr/lib/libcblas.3.dylib' (no such file)\n",
     "output_type": "error",
     "traceback": [
      "\u001b[0;31m---------------------------------------------------------------------------\u001b[0m",
      "\u001b[0;31mImportError\u001b[0m                               Traceback (most recent call last)",
      "File \u001b[0;32m~/miniconda3/envs/pymatgen/lib/python3.10/site-packages/numpy/core/__init__.py:23\u001b[0m, in \u001b[0;36m<module>\u001b[0;34m\u001b[0m\n\u001b[1;32m     22\u001b[0m \u001b[39mtry\u001b[39;00m:\n\u001b[0;32m---> 23\u001b[0m     \u001b[39mfrom\u001b[39;00m \u001b[39m.\u001b[39;00m \u001b[39mimport\u001b[39;00m multiarray\n\u001b[1;32m     24\u001b[0m \u001b[39mexcept\u001b[39;00m \u001b[39mImportError\u001b[39;00m \u001b[39mas\u001b[39;00m exc:\n",
      "File \u001b[0;32m~/miniconda3/envs/pymatgen/lib/python3.10/site-packages/numpy/core/multiarray.py:10\u001b[0m, in \u001b[0;36m<module>\u001b[0;34m\u001b[0m\n\u001b[1;32m      9\u001b[0m \u001b[39mimport\u001b[39;00m \u001b[39mfunctools\u001b[39;00m\n\u001b[0;32m---> 10\u001b[0m \u001b[39mfrom\u001b[39;00m \u001b[39m.\u001b[39;00m \u001b[39mimport\u001b[39;00m overrides\n\u001b[1;32m     11\u001b[0m \u001b[39mfrom\u001b[39;00m \u001b[39m.\u001b[39;00m \u001b[39mimport\u001b[39;00m _multiarray_umath\n",
      "File \u001b[0;32m~/miniconda3/envs/pymatgen/lib/python3.10/site-packages/numpy/core/overrides.py:6\u001b[0m, in \u001b[0;36m<module>\u001b[0;34m\u001b[0m\n\u001b[1;32m      4\u001b[0m \u001b[39mimport\u001b[39;00m \u001b[39mos\u001b[39;00m\n\u001b[0;32m----> 6\u001b[0m \u001b[39mfrom\u001b[39;00m \u001b[39mnumpy\u001b[39;00m\u001b[39m.\u001b[39;00m\u001b[39mcore\u001b[39;00m\u001b[39m.\u001b[39;00m\u001b[39m_multiarray_umath\u001b[39;00m \u001b[39mimport\u001b[39;00m (\n\u001b[1;32m      7\u001b[0m     add_docstring, implement_array_function, _get_implementing_args)\n\u001b[1;32m      8\u001b[0m \u001b[39mfrom\u001b[39;00m \u001b[39mnumpy\u001b[39;00m\u001b[39m.\u001b[39;00m\u001b[39mcompat\u001b[39;00m\u001b[39m.\u001b[39;00m\u001b[39m_inspect\u001b[39;00m \u001b[39mimport\u001b[39;00m getargspec\n",
      "\u001b[0;31mImportError\u001b[0m: dlopen(/Users/inhwankim/miniconda3/envs/pymatgen/lib/python3.10/site-packages/numpy/core/_multiarray_umath.cpython-310-darwin.so, 0x0002): Library not loaded: @rpath/libcblas.3.dylib\n  Referenced from: /Users/inhwankim/miniconda3/envs/pymatgen/lib/python3.10/site-packages/numpy/core/_multiarray_umath.cpython-310-darwin.so\n  Reason: tried: '/Users/inhwankim/miniconda3/envs/pymatgen/lib/python3.10/site-packages/numpy/core/../../../../libcblas.3.dylib' (no such file), '/Users/inhwankim/miniconda3/envs/pymatgen/lib/python3.10/site-packages/numpy/core/../../../../libcblas.3.dylib' (no such file), '/Users/inhwankim/miniconda3/envs/pymatgen/bin/../lib/libcblas.3.dylib' (no such file), '/Users/inhwankim/miniconda3/envs/pymatgen/bin/../lib/libcblas.3.dylib' (no such file), '/usr/local/lib/libcblas.3.dylib' (no such file), '/usr/lib/libcblas.3.dylib' (no such file)",
      "\nDuring handling of the above exception, another exception occurred:\n",
      "\u001b[0;31mImportError\u001b[0m                               Traceback (most recent call last)",
      "\u001b[1;32m/Users/inhwankim/Desktop/Code/VASP/extract_neb_energy.ipynb Cell 1\u001b[0m in \u001b[0;36m<cell line: 1>\u001b[0;34m()\u001b[0m\n\u001b[0;32m----> <a href='vscode-notebook-cell:/Users/inhwankim/Desktop/Code/VASP/extract_neb_energy.ipynb#W0sZmlsZQ%3D%3D?line=0'>1</a>\u001b[0m \u001b[39mfrom\u001b[39;00m \u001b[39mpymatgen\u001b[39;00m\u001b[39m.\u001b[39;00m\u001b[39mio\u001b[39;00m\u001b[39m.\u001b[39;00m\u001b[39mvasp\u001b[39;00m \u001b[39mimport\u001b[39;00m Oszicar\n\u001b[1;32m      <a href='vscode-notebook-cell:/Users/inhwankim/Desktop/Code/VASP/extract_neb_energy.ipynb#W0sZmlsZQ%3D%3D?line=1'>2</a>\u001b[0m \u001b[39mimport\u001b[39;00m \u001b[39mnumpy\u001b[39;00m \u001b[39mas\u001b[39;00m \u001b[39mnp\u001b[39;00m\n\u001b[1;32m      <a href='vscode-notebook-cell:/Users/inhwankim/Desktop/Code/VASP/extract_neb_energy.ipynb#W0sZmlsZQ%3D%3D?line=3'>4</a>\u001b[0m energy_list \u001b[39m=\u001b[39m []\n",
      "File \u001b[0;32m~/miniconda3/envs/pymatgen/lib/python3.10/site-packages/pymatgen/io/vasp/__init__.py:11\u001b[0m, in \u001b[0;36m<module>\u001b[0;34m\u001b[0m\n\u001b[1;32m      1\u001b[0m \u001b[39m# Copyright (c) Pymatgen Development Team.\u001b[39;00m\n\u001b[1;32m      2\u001b[0m \u001b[39m# Distributed under the terms of the MIT License.\u001b[39;00m\n\u001b[1;32m      4\u001b[0m \u001b[39m\"\"\"\u001b[39;00m\n\u001b[1;32m      5\u001b[0m \u001b[39mThis package implements modules for input and output to and from VASP. It\u001b[39;00m\n\u001b[1;32m      6\u001b[0m \u001b[39mimports the key classes form both vasp_input and vasp_output to allow most\u001b[39;00m\n\u001b[1;32m      7\u001b[0m \u001b[39mclasses to be simply called as pymatgen.io.vasp.Incar for example, to retain\u001b[39;00m\n\u001b[1;32m      8\u001b[0m \u001b[39mbackwards compatibility.\u001b[39;00m\n\u001b[1;32m      9\u001b[0m \u001b[39m\"\"\"\u001b[39;00m\n\u001b[0;32m---> 11\u001b[0m \u001b[39mfrom\u001b[39;00m \u001b[39m.\u001b[39;00m\u001b[39minputs\u001b[39;00m \u001b[39mimport\u001b[39;00m Incar, Kpoints, Poscar, Potcar, PotcarSingle, VaspInput\n\u001b[1;32m     12\u001b[0m \u001b[39mfrom\u001b[39;00m \u001b[39m.\u001b[39;00m\u001b[39moutputs\u001b[39;00m \u001b[39mimport\u001b[39;00m (\n\u001b[1;32m     13\u001b[0m     BSVasprun,\n\u001b[1;32m     14\u001b[0m     Chgcar,\n\u001b[0;32m   (...)\u001b[0m\n\u001b[1;32m     26\u001b[0m     Xdatcar,\n\u001b[1;32m     27\u001b[0m )\n",
      "File \u001b[0;32m~/miniconda3/envs/pymatgen/lib/python3.10/site-packages/pymatgen/io/vasp/inputs.py:25\u001b[0m, in \u001b[0;36m<module>\u001b[0;34m\u001b[0m\n\u001b[1;32m     22\u001b[0m \u001b[39mfrom\u001b[39;00m \u001b[39mhashlib\u001b[39;00m \u001b[39mimport\u001b[39;00m md5\n\u001b[1;32m     23\u001b[0m \u001b[39mfrom\u001b[39;00m \u001b[39mtyping\u001b[39;00m \u001b[39mimport\u001b[39;00m Any, Literal, Sequence\n\u001b[0;32m---> 25\u001b[0m \u001b[39mimport\u001b[39;00m \u001b[39mnumpy\u001b[39;00m \u001b[39mas\u001b[39;00m \u001b[39mnp\u001b[39;00m\n\u001b[1;32m     26\u001b[0m \u001b[39mimport\u001b[39;00m \u001b[39mscipy\u001b[39;00m\u001b[39m.\u001b[39;00m\u001b[39mconstants\u001b[39;00m \u001b[39mas\u001b[39;00m \u001b[39mconst\u001b[39;00m\n\u001b[1;32m     27\u001b[0m \u001b[39mfrom\u001b[39;00m \u001b[39mmonty\u001b[39;00m\u001b[39m.\u001b[39;00m\u001b[39mio\u001b[39;00m \u001b[39mimport\u001b[39;00m zopen\n",
      "File \u001b[0;32m~/miniconda3/envs/pymatgen/lib/python3.10/site-packages/numpy/__init__.py:140\u001b[0m, in \u001b[0;36m<module>\u001b[0;34m\u001b[0m\n\u001b[1;32m    137\u001b[0m \u001b[39m# Allow distributors to run custom init code\u001b[39;00m\n\u001b[1;32m    138\u001b[0m \u001b[39mfrom\u001b[39;00m \u001b[39m.\u001b[39;00m \u001b[39mimport\u001b[39;00m _distributor_init\n\u001b[0;32m--> 140\u001b[0m \u001b[39mfrom\u001b[39;00m \u001b[39m.\u001b[39;00m \u001b[39mimport\u001b[39;00m core\n\u001b[1;32m    141\u001b[0m \u001b[39mfrom\u001b[39;00m \u001b[39m.\u001b[39;00m\u001b[39mcore\u001b[39;00m \u001b[39mimport\u001b[39;00m \u001b[39m*\u001b[39m\n\u001b[1;32m    142\u001b[0m \u001b[39mfrom\u001b[39;00m \u001b[39m.\u001b[39;00m \u001b[39mimport\u001b[39;00m compat\n",
      "File \u001b[0;32m~/miniconda3/envs/pymatgen/lib/python3.10/site-packages/numpy/core/__init__.py:49\u001b[0m, in \u001b[0;36m<module>\u001b[0;34m\u001b[0m\n\u001b[1;32m     25\u001b[0m     \u001b[39mimport\u001b[39;00m \u001b[39msys\u001b[39;00m\n\u001b[1;32m     26\u001b[0m     msg \u001b[39m=\u001b[39m \u001b[39m\"\"\"\u001b[39m\n\u001b[1;32m     27\u001b[0m \n\u001b[1;32m     28\u001b[0m \u001b[39mIMPORTANT: PLEASE READ THIS FOR ADVICE ON HOW TO SOLVE THIS ISSUE!\u001b[39m\n\u001b[0;32m   (...)\u001b[0m\n\u001b[1;32m     47\u001b[0m \u001b[39m\"\"\"\u001b[39m \u001b[39m%\u001b[39m (sys\u001b[39m.\u001b[39mversion_info[\u001b[39m0\u001b[39m], sys\u001b[39m.\u001b[39mversion_info[\u001b[39m1\u001b[39m], sys\u001b[39m.\u001b[39mexecutable,\n\u001b[1;32m     48\u001b[0m         __version__, exc)\n\u001b[0;32m---> 49\u001b[0m     \u001b[39mraise\u001b[39;00m \u001b[39mImportError\u001b[39;00m(msg)\n\u001b[1;32m     50\u001b[0m \u001b[39mfinally\u001b[39;00m:\n\u001b[1;32m     51\u001b[0m     \u001b[39mfor\u001b[39;00m envkey \u001b[39min\u001b[39;00m env_added:\n",
      "\u001b[0;31mImportError\u001b[0m: \n\nIMPORTANT: PLEASE READ THIS FOR ADVICE ON HOW TO SOLVE THIS ISSUE!\n\nImporting the numpy C-extensions failed. This error can happen for\nmany reasons, often due to issues with your setup or how NumPy was\ninstalled.\n\nWe have compiled some common reasons and troubleshooting tips at:\n\n    https://numpy.org/devdocs/user/troubleshooting-importerror.html\n\nPlease note and check the following:\n\n  * The Python version is: Python3.10 from \"/Users/inhwankim/miniconda3/envs/pymatgen/bin/python\"\n  * The NumPy version is: \"1.23.1\"\n\nand make sure that they are the versions you expect.\nPlease carefully study the documentation linked above for further help.\n\nOriginal error was: dlopen(/Users/inhwankim/miniconda3/envs/pymatgen/lib/python3.10/site-packages/numpy/core/_multiarray_umath.cpython-310-darwin.so, 0x0002): Library not loaded: @rpath/libcblas.3.dylib\n  Referenced from: /Users/inhwankim/miniconda3/envs/pymatgen/lib/python3.10/site-packages/numpy/core/_multiarray_umath.cpython-310-darwin.so\n  Reason: tried: '/Users/inhwankim/miniconda3/envs/pymatgen/lib/python3.10/site-packages/numpy/core/../../../../libcblas.3.dylib' (no such file), '/Users/inhwankim/miniconda3/envs/pymatgen/lib/python3.10/site-packages/numpy/core/../../../../libcblas.3.dylib' (no such file), '/Users/inhwankim/miniconda3/envs/pymatgen/bin/../lib/libcblas.3.dylib' (no such file), '/Users/inhwankim/miniconda3/envs/pymatgen/bin/../lib/libcblas.3.dylib' (no such file), '/usr/local/lib/libcblas.3.dylib' (no such file), '/usr/lib/libcblas.3.dylib' (no such file)\n"
     ]
    }
   ],
   "source": [
    "from pymatgen.io.vasp import Oszicar\n",
    "import numpy as np\n",
    "\n",
    "import pymatgen.io.vasp.Oszicar\n",
    "energy_list = []\n",
    "\n",
    "for i in range(0,12):\n",
    "    osz = Oszicar(f'{i+1:02d}/OSZICAR')\n",
    "    energy = osz.final_energy + 41.624232\n",
    "    energy_list.append(energy)\n",
    "\n",
    "energy_list.append(0)\n",
    "energy_list = np.insert(energy_list, 0, 0.)\n",
    "\n",
    "x_list = np.linspace(0,1,len(energy_list))\n",
    "print(\"\")\n",
    "print(\"\")\n",
    "print(\"Final energy:\")\n",
    "print(x_list.tolist())\n",
    "print((energy_list.tolist()))"
   ]
  }
 ],
 "metadata": {
  "kernelspec": {
   "display_name": "cphy",
   "language": "python",
   "name": "python3"
  },
  "language_info": {
   "codemirror_mode": {
    "name": "ipython",
    "version": 3
   },
   "file_extension": ".py",
   "mimetype": "text/x-python",
   "name": "python",
   "nbconvert_exporter": "python",
   "pygments_lexer": "ipython3",
   "version": "3.9.12"
  },
  "orig_nbformat": 4,
  "vscode": {
   "interpreter": {
    "hash": "294fe870d667f29bb8329f4a6fd5a7f18254710411467a21f756cf4167756012"
   }
  }
 },
 "nbformat": 4,
 "nbformat_minor": 2
}
