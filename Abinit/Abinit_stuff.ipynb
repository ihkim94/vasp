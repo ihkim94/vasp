{
 "cells": [
  {
   "cell_type": "code",
   "execution_count": 69,
   "metadata": {},
   "outputs": [
    {
     "name": "stdout",
     "output_type": "stream",
     "text": [
      "The maximum magnitude of amplitude is 0.0376 angstrom\n",
      "0.000925   0.000925   0.0006899\n",
      "0.51080634 0.50328062 0.5128087\n",
      "-0.01771062  0.50059381  0.4875273\n",
      "0.48779381 0.00108938 0.4875809\n",
      "0.48990968 0.50054968 0.9805550\n",
      "\n",
      "The original fractional coordinate is :\n",
      "0.00081522 0.00081522 0.0006899\n",
      "0.50704348 0.50704348 0.5128087\n",
      "-0.00831062  0.49419381  0.4875541\n",
      " 0.49419381 -0.00831062  0.4875541\n",
      "0.49522968 0.49522968 0.9805550\n"
     ]
    }
   ],
   "source": [
    "import numpy as np\n",
    "import scipy as sci\n",
    "\n",
    "lattice_parameter = 4 ## angstrom\n",
    "\n",
    "fractional_coordi = np.array([[8.1521628680E-04,  8.1521628680E-04, 6.8994156747E-04],\n",
    "                              [5.0704347734E-01,  5.0704347734E-01, 5.1280871748E-01],\n",
    "                              [-8.3106175752E-03, 4.9419380842E-01, 4.8755412519E-01],\n",
    "                              [4.9419380842E-01, -8.3106175752E-03, 4.8755412519E-01],\n",
    "                              [4.9522968331E-01,  4.9522968331E-01, 9.8055502281E-01]])\n",
    "\n",
    "mode4 = np.array([[7.26149E-5, 7.26149E-5, 0],\n",
    "                  [0.00156, -0.00156, 0],\n",
    "                  [-0.00235, 0.0016, -6.70339E-6],\n",
    "                  [-0.0016, 0.00235, 6.70339E-6],\n",
    "                  [-0.00133, 0.00133, 0]])\n",
    "\n",
    "\n",
    "### Normalize the eigenmode with respect to the atomic mass (ref. Oxygen atoms)\n",
    "def normalize(x):\n",
    "    mode_normalized = np.copy(x)\n",
    "    ### Ba = 56, Ti = 22, O = 8\n",
    "    mode_normalized[0:1, :] = mode_normalized[0:1, :] / np.sqrt(56/8)\n",
    "    mode_normalized[1:2, :] = mode_normalized[1:2, :] / np.sqrt(22/8)\n",
    "    return mode_normalized\n",
    "\n",
    "### We have to decrease or increase the magnitude of perturbation.\n",
    "divide_number = 1/4\n",
    "perturb = normalize(mode4)/divide_number\n",
    "\n",
    "perturbed = perturb + fractional_coordi\n",
    "\n",
    "max_disp = np.max(perturb) * lattice_parameter\n",
    "\n",
    "print(f\"The maximum magnitude of amplitude is {max_disp} angstrom\")\n",
    "print(*[str(row)[1:-2] for row in perturbed], sep='\\n')\n",
    "print(\"\")\n",
    "print(\"The original fractional coordinate is :\")\n",
    "print(*[str(row)[1:-2] for row in fractional_coordi], sep='\\n')\n"
   ]
  },
  {
   "cell_type": "code",
   "execution_count": 116,
   "metadata": {},
   "outputs": [
    {
     "name": "stdout",
     "output_type": "stream",
     "text": [
      "The maximum magnitude of amplitude is 0.0377582599243339 angstrom\n",
      "0.01025478 0.01025478 0.0024377\n",
      "0.48343652 0.48343652 0.5111153\n",
      "-0.03744727  0.45888064  0.4775138\n",
      " 0.45888064 -0.03744727  0.4775138\n",
      "0.46246875 0.46246875 0.9693482\n",
      "\n",
      "The original fractional coordinate is :\n",
      "0.00081522 0.00081522 0.0006899\n",
      "0.50704348 0.50704348 0.5128087\n",
      "-0.00831062  0.49419381  0.4875541\n",
      " 0.49419381 -0.00831062  0.4875541\n",
      "0.49522968 0.49522968 0.9805550\n"
     ]
    }
   ],
   "source": [
    "import numpy as np\n",
    "import scipy as sci\n",
    "\n",
    "lattice_parameter = 4 ## angstrom\n",
    "\n",
    "fractional_coordi = np.array([[8.1521628680E-04,  8.1521628680E-04, 6.8994156747E-04],\n",
    "                              [5.0704347734E-01,  5.0704347734E-01, 5.1280871748E-01],\n",
    "                              [-8.3106175752E-03, 4.9419380842E-01, 4.8755412519E-01],\n",
    "                              [4.9419380842E-01, -8.3106175752E-03, 4.8755412519E-01],\n",
    "                              [4.9522968331E-01,  4.9522968331E-01, 9.8055502281E-01]])\n",
    "\n",
    "mode8 = np.array([[8.94095743E-04,  8.94095741E-04,  1.65548041E-04],\n",
    "                  [-1.40148822E-03, -1.40148822E-03, -1.00532826E-04],\n",
    "                  [-1.04309215E-03, -1.26421139E-03, -3.59441039E-04],\n",
    "                  [-1.26421140E-03, -1.04309215E-03, -3.59441039E-04],\n",
    "                  [-1.17284141E-03, -1.17284140E-03, -4.01204213E-04]])\n",
    "\n",
    "\n",
    "### Normalize the eigenmode with respect to the atomic mass (ref. Oxygen atoms)\n",
    "def normalize(x):\n",
    "    mode_normalized = np.copy(x)\n",
    "    ### Ba = 56, Ti = 22, O = 8\n",
    "    mode_normalized[0:1, :] = mode_normalized[0:1, :] / np.sqrt(56/8)\n",
    "    mode_normalized[1:2, :] = mode_normalized[1:2, :] / np.sqrt(22/8)\n",
    "    return mode_normalized\n",
    "\n",
    "### We have to decrease or increase the magnitude of perturbation.\n",
    "divide_number = 0.0358\n",
    "perturb = normalize(mode8)/divide_number\n",
    "\n",
    "perturbed = perturb + fractional_coordi\n",
    "\n",
    "max_disp = np.max(perturb) * lattice_parameter\n",
    "\n",
    "print(f\"The maximum magnitude of amplitude is {max_disp} angstrom\")\n",
    "print(*[str(row)[1:-2] for row in perturbed], sep='\\n')\n",
    "print(\"\")\n",
    "print(\"The original fractional coordinate is :\")\n",
    "print(*[str(row)[1:-2] for row in fractional_coordi], sep='\\n')\n"
   ]
  },
  {
   "cell_type": "code",
   "execution_count": 173,
   "metadata": {},
   "outputs": [
    {
     "name": "stdout",
     "output_type": "stream",
     "text": [
      "The maximum magnitude of normalized amplitude is 0.03 angstrom\n",
      "0.00089533 0.00081522 0.0006899\n",
      "0.50996041 0.50704348 0.5128087\n",
      "-0.01590555  0.49419381  0.4875541\n",
      " 0.48902279 -0.00831062  0.4875541\n",
      "0.49093127 0.49522968 0.9805550\n",
      "\n",
      "The original fractional coordinate is :\n",
      "0.00081522 0.00081522 0.0006899\n",
      "0.50704348 0.50704348 0.5128087\n",
      "-0.00831062  0.49419381  0.4875541\n",
      " 0.49419381 -0.00831062  0.4875541\n",
      "0.49522968 0.49522968 0.9805550\n"
     ]
    }
   ],
   "source": [
    "import numpy as np\n",
    "import scipy as sci\n",
    "\n",
    "lattice_parameter = 3.95 ## angstrom\n",
    "\n",
    "fractional_coordi = np.array([[8.1521628680E-04,  8.1521628680E-04, 6.8994156747E-04],\n",
    "                              [5.0704347734E-01,  5.0704347734E-01, 5.1280871748E-01],\n",
    "                              [-8.3106175752E-03, 4.9419380842E-01, 4.8755412519E-01],\n",
    "                              [4.9419380842E-01, -8.3106175752E-03, 4.8755412519E-01],\n",
    "                              [4.9522968331E-01,  4.9522968331E-01, 9.8055502281E-01]])\n",
    "\n",
    "mode4_averaged = np.array([[7.26149E-5, 0, 0],\n",
    "                  [0.00156, 0, 0],\n",
    "                  [-0.00235, 0, 0],\n",
    "                  [-0.0016, 0, 0],\n",
    "                  [-0.00133, 0, 0]])\n",
    "\n",
    "### Normalize the eigenmode with respect to the atomic mass (ref. Oxygen atoms)\n",
    "def normalize(x):\n",
    "    mode_normalized = np.copy(x)\n",
    "    ### Ba = 56, Ti = 22, O = 8\n",
    "    mode_normalized[0:1, :] = mode_normalized[0:1, :] / np.sqrt(137.3/16)\n",
    "    mode_normalized[1:2, :] = mode_normalized[1:2, :] / np.sqrt(47.8/16)\n",
    "    return mode_normalized\n",
    "\n",
    "### We have to decrease or increase the magnitude of perturbation.\n",
    "\n",
    "perturb = normalize(mode4_averaged)\n",
    "perturbed = perturb + fractional_coordi\n",
    "max_disp = np.max(perturb) * lattice_parameter\n",
    "normalized_perturbed = perturb/np.max(np.abs(perturb))\n",
    "normalized_max_disp = np.max(np.abs(normalized_perturbed)) * lattice_parameter\n",
    "######\n",
    "amp = 0.03 # Magnitude of the amplitude in Angstrom\n",
    "######\n",
    "final_perturbed = ((amp/lattice_parameter) * normalized_perturbed) + fractional_coordi\n",
    "final_max_disp = np.max(np.abs((amp/lattice_parameter) * normalized_perturbed)) * lattice_parameter\n",
    "# print(f\"The maximum magnitude of amplitude is {max_disp} angstrom\")\n",
    "# print(*[str(row)[1:-2] for row in perturbed], sep='\\n')\n",
    "# print(\"\")\n",
    "print(f\"The maximum magnitude of normalized amplitude is {final_max_disp} angstrom\")\n",
    "print(*[str(row)[1:-2] for row in final_perturbed], sep='\\n')\n",
    "print(\"\")\n",
    "print(\"The original fractional coordinate is :\")\n",
    "print(*[str(row)[1:-2] for row in fractional_coordi], sep='\\n')\n"
   ]
  },
  {
   "cell_type": "code",
   "execution_count": 179,
   "metadata": {},
   "outputs": [
    {
     "name": "stdout",
     "output_type": "stream",
     "text": [
      "The maximum magnitude of normalized amplitude is 0.03 angstrom\n",
      "0.00265498 0.00081522 0.0006899\n",
      "0.50216114 0.50704348 0.5128087\n",
      "-0.01457945  0.49419381  0.4875541\n",
      " 0.48659887 -0.00831062  0.4875541\n",
      "0.48817724 0.49522968 0.9805550\n",
      "\n",
      "The original fractional coordinate is :\n",
      "0.00081522 0.00081522 0.0006899\n",
      "0.50704348 0.50704348 0.5128087\n",
      "-0.00831062  0.49419381  0.4875541\n",
      " 0.49419381 -0.00831062  0.4875541\n",
      "0.49522968 0.49522968 0.9805550\n"
     ]
    }
   ],
   "source": [
    "import numpy as np\n",
    "import scipy as sci\n",
    "\n",
    "lattice_parameter = 3.95 ## angstrom\n",
    "\n",
    "fractional_coordi = np.array([[8.1521628680E-04,  8.1521628680E-04, 6.8994156747E-04],\n",
    "                              [5.0704347734E-01,  5.0704347734E-01, 5.1280871748E-01],\n",
    "                              [-8.3106175752E-03, 4.9419380842E-01, 4.8755412519E-01],\n",
    "                              [4.9419380842E-01, -8.3106175752E-03, 4.8755412519E-01],\n",
    "                              [4.9522968331E-01,  4.9522968331E-01, 9.8055502281E-01]])\n",
    "\n",
    "mode8_averaged = np.array([[8.94096E-4, 0, 0],\n",
    "                  [-0.0014, 0, 0],\n",
    "                  [-0.00104, 0, 0],\n",
    "                  [-0.00126, 0, 0],\n",
    "                  [-0.00117, 0, 0]])\n",
    "\n",
    "### Normalize the eigenmode with respect to the atomic mass (ref. Oxygen atoms)\n",
    "def normalize(x):\n",
    "    mode_normalized = np.copy(x)\n",
    "    ### Ba = 56, Ti = 22, O = 8\n",
    "    mode_normalized[0:1, :] = mode_normalized[0:1, :] / np.sqrt(137.3/16)\n",
    "    mode_normalized[1:2, :] = mode_normalized[1:2, :] / np.sqrt(47.8/16)\n",
    "    return mode_normalized\n",
    "\n",
    "### We have to decrease or increase the magnitude of perturbation.\n",
    "\n",
    "perturb = normalize(mode8_averaged)\n",
    "perturbed = perturb + fractional_coordi\n",
    "max_disp = np.max(perturb) * lattice_parameter\n",
    "normalized_perturbed = perturb/np.max(np.abs(perturb))\n",
    "normalized_max_disp = np.max(np.abs(normalized_perturbed)) * lattice_parameter\n",
    "\n",
    "###### important parameter\n",
    "amp = 0.03 # Magnitude of the amplitude in Angstrom\n",
    "###### important parameter\n",
    "\n",
    "final_perturbed = ((amp/lattice_parameter) * normalized_perturbed) + fractional_coordi\n",
    "final_max_disp = np.max(np.abs((amp/lattice_parameter) * normalized_perturbed)) * lattice_parameter\n",
    "# print(f\"The maximum magnitude of amplitude is {max_disp} angstrom\")\n",
    "# print(*[str(row)[1:-2] for row in perturbed], sep='\\n')\n",
    "# print(\"\")\n",
    "print(f\"The maximum magnitude of normalized amplitude is {final_max_disp} angstrom\")\n",
    "print(*[str(row)[1:-2] for row in final_perturbed], sep='\\n')\n",
    "print(\"\")\n",
    "print(\"The original fractional coordinate is :\")\n",
    "print(*[str(row)[1:-2] for row in fractional_coordi], sep='\\n')\n"
   ]
  },
  {
   "cell_type": "markdown",
   "metadata": {},
   "source": []
  },
  {
   "cell_type": "code",
   "execution_count": 194,
   "metadata": {},
   "outputs": [
    {
     "name": "stdout",
     "output_type": "stream",
     "text": [
      "[[0.   0.5  0.   1.  ]\n",
      " [0.   0.49 0.   1.  ]\n",
      " [0.   0.48 0.   1.  ]\n",
      " ...\n",
      " [1.   1.   0.52 1.  ]\n",
      " [1.   1.   0.51 1.  ]\n",
      " [1.   1.   0.5  1.  ]]\n",
      "[[0.   0.5  0.   1.  ]\n",
      " [0.   0.49 0.   1.  ]\n",
      " [0.   0.48 0.   1.  ]\n",
      " ...\n",
      " [1.   1.   0.52 1.  ]\n",
      " [1.   1.   0.51 1.  ]\n",
      " [1.   1.   0.5  1.  ]]\n"
     ]
    },
    {
     "ename": "AttributeError",
     "evalue": "'NoneType' object has no attribute 'replace'",
     "output_type": "error",
     "traceback": [
      "\u001b[0;31m---------------------------------------------------------------------------\u001b[0m",
      "\u001b[0;31mAttributeError\u001b[0m                            Traceback (most recent call last)",
      "\u001b[1;32m/Users/inhwankim/Desktop/Code/VASP/Abinit/Raman_Eig_displacement.ipynb Cell 6\u001b[0m in \u001b[0;36m<cell line: 37>\u001b[0;34m()\u001b[0m\n\u001b[1;32m     <a href='vscode-notebook-cell:/Users/inhwankim/Desktop/Code/VASP/Abinit/Raman_Eig_displacement.ipynb#W1sZmlsZQ%3D%3D?line=33'>34</a>\u001b[0m \u001b[39m### Z point\u001b[39;00m\n\u001b[1;32m     <a href='vscode-notebook-cell:/Users/inhwankim/Desktop/Code/VASP/Abinit/Raman_Eig_displacement.ipynb#W1sZmlsZQ%3D%3D?line=35'>36</a>\u001b[0m \u001b[39mprint\u001b[39m(q_point)\n\u001b[0;32m---> <a href='vscode-notebook-cell:/Users/inhwankim/Desktop/Code/VASP/Abinit/Raman_Eig_displacement.ipynb#W1sZmlsZQ%3D%3D?line=36'>37</a>\u001b[0m \u001b[39mprint\u001b[39;49m(\u001b[39mstr\u001b[39;49m(q_point))\u001b[39m.\u001b[39;49mreplace(\u001b[39m'\u001b[39m\u001b[39m [\u001b[39m\u001b[39m'\u001b[39m, \u001b[39m'\u001b[39m\u001b[39m'\u001b[39m)\u001b[39m.\u001b[39mreplace(\u001b[39m'\u001b[39m\u001b[39m[\u001b[39m\u001b[39m'\u001b[39m, \u001b[39m'\u001b[39m\u001b[39m'\u001b[39m)\u001b[39m.\u001b[39mreplace(\u001b[39m'\u001b[39m\u001b[39m]\u001b[39m\u001b[39m'\u001b[39m, \u001b[39m'\u001b[39m\u001b[39m'\u001b[39m)\n",
      "\u001b[0;31mAttributeError\u001b[0m: 'NoneType' object has no attribute 'replace'"
     ]
    }
   ],
   "source": [
    "import numpy as np\n",
    "\n",
    "### Generating the q-point for Abinit phonon calculation\n",
    "\n",
    "q_point = np.zeros([251, 4])\n",
    "q_point[:, 3:4] = 1.0\n",
    "\n",
    "### X point\n",
    "for i in range(0, 50):\n",
    "    q_point[i:i+1, 1:2] = 0.5 - i * 0.01\n",
    "### Gamma point\n",
    "for i in range(51, 101):\n",
    "    q_point[i:i+1, 1:2] = i * 0.01 - 0.5\n",
    "for i in range(51, 101):\n",
    "    q_point[i:i+1, 0:1] = i * 0.01 - 0.5\n",
    "for i in range(51, 101):\n",
    "    q_point[i:i+1, 2:3] = i * 0.01 - 0.5\n",
    "### A point    \n",
    "for i in range(101, 151):\n",
    "    q_point[i:i+1, 2:3] = -0.5 + i * 0.01\n",
    "q_point[101:151, 0:1] = 0.5\n",
    "q_point[101:151, 1:2] = 0.5\n",
    "### M point\n",
    "q_point[151:201, 2:3] = 1.0\n",
    "for i in range(151, 201):\n",
    "    q_point[i:i+1, 0:1] = -1.0 + i * 0.01\n",
    "for i in range(151, 201):\n",
    "    q_point[i:i+1, 1:2] = -1.0 + i * 0.01\n",
    "### Gammapoint\n",
    "q_point[201:251, 0:1] = 1.0\n",
    "q_point[201:251, 1:2] = 1.0\n",
    "for i in range(201, 251):\n",
    "    q_point[i:i+1, 2:3] = 3 - i * 0.01\n",
    "### Z point\n",
    "\n",
    "print(q_point)\n",
    "print(str(q_point)).replace(' [', '').replace('[', '').replace(']', '')"
   ]
  },
  {
   "cell_type": "code",
   "execution_count": 6,
   "metadata": {},
   "outputs": [
    {
     "name": "stdout",
     "output_type": "stream",
     "text": [
      "the density is, 6185.625293538668 kg/m3\n"
     ]
    }
   ],
   "source": [
    "import numpy as np\n",
    "from scipy import constants\n",
    "\n",
    "br = constants.physical_constants[\"Bohr radius\"][0]\n",
    "amu = constants.physical_constants[\"atomic mass constant\"][0]\n",
    "volume = (4.2244860E+02)*(br**3)\n",
    "mass = (137.327 + 47.867 + 15.999 * 3) * amu\n",
    "density = mass/volume\n",
    "vel = 6300\n",
    "eps = 2000\n",
    "q = 0.0025\n",
    "print(f\"the density is, {density} kg/m3\")\n"
   ]
  },
  {
   "cell_type": "code",
   "execution_count": 7,
   "metadata": {},
   "outputs": [
    {
     "data": {
      "text/plain": [
       "8863529529.943245"
      ]
     },
     "execution_count": 7,
     "metadata": {},
     "output_type": "execute_result"
    }
   ],
   "source": [
    "d24 = np.sqrt(eps*((vel**2)*density/(q**2) -  117*(10**(9))))\n",
    "\n",
    "d24"
   ]
  },
  {
   "cell_type": "code",
   "execution_count": null,
   "metadata": {},
   "outputs": [],
   "source": []
  },
  {
   "cell_type": "code",
   "execution_count": null,
   "metadata": {},
   "outputs": [],
   "source": []
  },
  {
   "cell_type": "code",
   "execution_count": 30,
   "metadata": {},
   "outputs": [
    {
     "name": "stdout",
     "output_type": "stream",
     "text": [
      "[0.       0.       0.       0.798583 0.       0.      ]\n",
      "[ 1.150e+00 -1.125e+00  0.000e+00  5.872e+01 -3.255e-01  5.000e-04]\n",
      "468.92793760000006pC/N\n",
      "-19.18918581900003\n"
     ]
    }
   ],
   "source": [
    "import numpy as np\n",
    "\n",
    "S4x_1 = np.array([0.0205632,  -0.1032919,   0.1212717,   0.7985830,   0.0196782,  -0.0022651])\n",
    "S4x_2 = np.array([0.0205632,  -0.1032919,   0.1212717,   0.7985830,   -0.0196782,  0.0022651])\n",
    "S4x_3 = np.array([-0.0205632,  0.1032919,   -0.1212717,   0.7985830,   -0.0196782,  -0.0022651])\n",
    "S4x_4 = np.array([-0.0205632,  0.1032919,   -0.1212717,   0.7985830,   0.0196782,  0.0022651])\n",
    "S4x_avg = (S4x_1 + S4x_2 + S4x_3 + S4x_4)/4\n",
    "\n",
    "e2x_1 = np.array([-351.9, 387.5, -6.9, 59.19, -55.062, 2.185])\n",
    "e2x_2 = np.array([-343.5, 379, -6.9, 57.89, 53.76, -2.183])\n",
    "e2x_3 = np.array([350, -386, 6.9, 58.9, 54.8, 2.185])\n",
    "e2x_4 = np.array([350, -385, 6.9, 58.9, -54.8, -2.185])\n",
    "e2x_avg = (e2x_1 + e2x_2 + e2x_3 + e2x_4)/4\n",
    "\n",
    "\n",
    "d24 = S4x_avg@e2x_avg * 10 ## T\n",
    "\n",
    "print(S4x_avg)\n",
    "print(e2x_avg)\n",
    "print(f\"{d24}pC/N\")\n",
    "print(S4x_1@e2x_1*10)"
   ]
  },
  {
   "cell_type": "code",
   "execution_count": null,
   "metadata": {},
   "outputs": [],
   "source": []
  },
  {
   "cell_type": "code",
   "execution_count": 25,
   "metadata": {},
   "outputs": [
    {
     "name": "stdout",
     "output_type": "stream",
     "text": [
      "[0.    0.    0.    0.842 0.    0.   ]\n",
      "[0.         0.         0.         1.86934382 0.         0.        ]\n",
      "15.7398749644pC/N\n"
     ]
    }
   ],
   "source": [
    "S3x_avg = np.array([0, 0, 0, 0.842, 0, 0])\n",
    "e3x_avg = np.array([0, 0, 0, 1.86934382, 0, 0])\n",
    "\n",
    "d33 = S3x_avg@e3x_avg * 10\n",
    "\n",
    "print(S3x_avg)\n",
    "print(e3x_avg)\n",
    "print(f\"{d33}pC/N\")"
   ]
  },
  {
   "cell_type": "code",
   "execution_count": null,
   "metadata": {},
   "outputs": [],
   "source": []
  },
  {
   "cell_type": "code",
   "execution_count": null,
   "metadata": {},
   "outputs": [],
   "source": []
  },
  {
   "cell_type": "code",
   "execution_count": null,
   "metadata": {},
   "outputs": [],
   "source": []
  },
  {
   "cell_type": "code",
   "execution_count": 53,
   "metadata": {},
   "outputs": [
    {
     "name": "stdout",
     "output_type": "stream",
     "text": [
      "[[-0.09564 -0.10048  0.31983 -0.       0.       0.     ]\n",
      " [-0.10048 -0.09564  0.31983 -0.      -0.       0.     ]\n",
      " [ 0.31983  0.31983 -0.06556  0.      -0.      -0.     ]\n",
      " [-0.      -0.       0.       0.79858 -0.       0.     ]\n",
      " [ 0.      -0.      -0.      -0.       0.79858 -0.     ]\n",
      " [ 0.       0.      -0.       0.      -0.       0.77496]]\n",
      "[[ 2.09896e+00  1.27781e+00 -5.01084e+00]\n",
      " [-2.08990e+00 -1.28402e+00 -5.01084e+00]\n",
      " [-1.52000e-03  1.63000e-03  9.97194e+00]\n",
      " [-3.25680e-01  5.87430e+01  1.30000e-04]\n",
      " [ 5.87430e+01 -3.25680e-01 -1.50000e-04]\n",
      " [-4.00000e-04  5.30000e-04 -2.10000e-04]]\n",
      "[[ 8.89033e-02  7.29730e-02  4.17208e+01]\n",
      " [-1.15947e-01 -5.15848e-02  4.17208e+01]\n",
      " [ 2.91556e-02 -2.01551e-02 -3.85903e+01]\n",
      " [-2.60080e+00  4.69111e+02  1.30842e-03]\n",
      " [ 4.69111e+02 -2.60077e+00 -1.33884e-03]\n",
      " [-3.25524e-03  4.14829e-03 -2.14906e-03]]\n"
     ]
    }
   ],
   "source": [
    "import numpy as np\n",
    "##\n",
    "## Averaging out the compliance tensor and the pizeoelectric strain tensor.\n",
    "##\n",
    "\n",
    "s1 = np.array([[-0.0956171,  -0.1004809,   0.3198094,   0.0205632,  -0.1032919,  -0.0599606],\n",
    "                [-0.1004809,  -0.0956172,   0.3198095,  -0.1032919,   0.0205632,  -0.0599606],\n",
    "                [0.3198094,   0.3198095,  -0.0655071,   0.1212717,   0.1212717,   0.1261013],\n",
    "                [0.0205632,  -0.1032919,   0.1212717,   0.7985830,   0.0196782,  -0.0022651],\n",
    "                [-0.1032919,   0.0205632,   0.1212717,   0.0196782,   0.7985830,  -0.0022651],\n",
    "                [-0.0599606,  -0.0599606,   0.1261013,  -0.0022651,  -0.0022651,   0.7749589]]) \n",
    "e_1 = np.array([[387.48719073,   -351.88977303,     -5.01286664],\n",
    "                [-351.88977582,    387.48720198,     -5.01286210],\n",
    "                [-6.90208691,     -6.90207070,      9.97249753],\n",
    "                [-55.06183428,     59.19394126,     -0.32076248],\n",
    "                [59.19393985,    -55.06183422,     -0.32076318],\n",
    "                [2.18535511,     2.18535817,     -0.71516544]])\n",
    "\n",
    "s2 = np.array([[-0.0956678,  -0.1004872,  0.3198695,   0.0205657,   0.1033005,   0.0599675],\n",
    "                [-0.1004872,  -0.0956677,   0.3198694,  -0.1033005,  -0.0205657,   0.0599675],\n",
    "                [0.3198695,   0.3198694,  -0.0656340,   0.1212781,  -0.1212781,  -0.1261158],\n",
    "                [0.0205657,  -0.1033005,   0.1212781,   0.7985805, -0.0196793,   0.0022658],\n",
    "                [0.1033005,  -0.0205657,  -0.1212781,  -0.0196793,   0.7985805,  -0.0022658],\n",
    "                [0.0599675,   0.0599675,  -0.1261158,   0.0022658,  -0.0022658,   0.7749563]])\n",
    "e_2 = np.array([[-379.05593679,   -343.49608068,     -5.00652616],\n",
    "                [343.49608294,    379.05597919,     -5.00653114],\n",
    "                [6.89467113,     -6.89467572,      9.96968882],\n",
    "                [53.76640801,     57.89438201,     -0.32009430],\n",
    "                [57.89437617,    53.76640839,      0.32009353],\n",
    "                [2.18309824,     -2.18310421,     0.71440450]])\n",
    "\n",
    "s3 = np.array([[-0.0956286,  -0.1004807,   0.3198234,  -0.0205644,  -0.1032936,   0.0599619],\n",
    "                [-0.1004807,  -0.0956288,   0.3198235,   0.1032936,   0.0205644,   0.0599619],\n",
    "                [0.3198234,   0.3198235,  -0.0655384,  -0.1212728,   0.1212728,  -0.1261047],\n",
    "                [-0.0205644,   0.1032936,  -0.1212728,   0.7985825,  -0.0196786,  -0.0022651],\n",
    "                [-0.1032936,   0.0205644,   0.1212728,  -0.0196786,   0.7985825,   0.0022651],\n",
    "                [0.0599619,   0.0599619,  -0.1261047,  -0.0022651,   0.0022651,   0.7749584]])\n",
    "e_3 = np.array([[ 385.82191098,    350.23150586,     -5.01174608],\n",
    "                [-350.23150627,   -385.82191978,     -5.01174476],\n",
    "                  [-6.90097266,      6.90097021,      9.97222193],\n",
    "                  [54.80663028,     58.93802240,      0.32065543],\n",
    "                  [58.93802077,     54.80662995,     -0.32065564],\n",
    "                  [-2.18495444,      2.18495851,      0.71504010]])\n",
    "\n",
    "s4 = np.array([[-0.0956339,  -0.1004753,   0.3198312,  -0.0205671,   0.1032930,  -0.0599614],\n",
    "                [-0.1004753,  -0.0956340,   0.3198312,   0.1032930,  -0.0205671,  -0.0599614],\n",
    "                [0.3198312,   0.3198312,  -0.0655622,  -0.1212718, -0.1212718,   0.1261061],\n",
    "                [-0.0205671,   0.1032930,  -0.1212718,   0.7985833,   0.0196795,   0.0022646],\n",
    "                [0.1032930,  -0.0205671,  -0.1212718,   0.0196795,   0.7985833,   0.0022646],\n",
    "                [-0.0599614,  -0.0599614,   0.1261061,   0.0022646,   0.0022646,   0.7749587]])\n",
    "e_4 = np.array([[-385.85734129,    350.26559250,     -5.01223487],\n",
    "                [350.26559257,   -385.85733372,     -5.01223092],\n",
    "                [6.90231903,      6.90231101,      9.97335112],\n",
    "                [-54.81390579,     58.94560609,      0.32073908],\n",
    "                [58.94560662,    -54.81390518,      0.32073968],\n",
    "                [-2.18508819,     -2.18508688,     -0.71512415]])\n",
    "\n",
    "np.set_printoptions(precision=5)\n",
    "S_ave = (s1 + s2 + s3 + s4)/4\n",
    "e_ave = (e_1 + e_2 + e_3 + e_4)/4\n",
    "print(np.round(S_ave, decimals=5))\n",
    "print(np.round(e_ave, decimals=5))\n",
    "print(S_ave@e_ave * 10)"
   ]
  },
  {
   "cell_type": "code",
   "execution_count": 54,
   "metadata": {},
   "outputs": [
    {
     "data": {
      "text/plain": [
       "763.5319999999999"
      ]
     },
     "execution_count": 54,
     "metadata": {},
     "output_type": "execute_result"
    }
   ],
   "source": [
    "469 * 0.814 * 2"
   ]
  },
  {
   "cell_type": "code",
   "execution_count": 56,
   "metadata": {},
   "outputs": [
    {
     "data": {
      "text/plain": [
       "-30.514000000000003"
      ]
     },
     "execution_count": 56,
     "metadata": {},
     "output_type": "execute_result"
    }
   ],
   "source": [
    "0.803 * (-38)"
   ]
  },
  {
   "cell_type": "code",
   "execution_count": null,
   "metadata": {},
   "outputs": [],
   "source": []
  },
  {
   "cell_type": "code",
   "execution_count": 22,
   "metadata": {},
   "outputs": [
    {
     "name": "stdout",
     "output_type": "stream",
     "text": [
      "[[ 0.        0.        0.      ]\n",
      " [ 0.506228  0.506228  0.512119]\n",
      " [-0.009126  0.493378  0.486864]\n",
      " [ 0.493378 -0.009126  0.486864]\n",
      " [ 0.494414  0.494414  0.979865]]\n",
      "0. 0. 0\n",
      "0.506228 0.506228 0.51211\n",
      "-0.009126  0.493378  0.48686\n",
      " 0.493378 -0.009126  0.48686\n",
      "0.494414 0.494414 0.97986\n"
     ]
    }
   ],
   "source": [
    "import numpy as np\n",
    "\n",
    "ini_struc = np.array([[0.000209,   0.000209,  0.000137],\n",
    "                    [0.506437,   0.506437,  0.512256],\n",
    "                    [-0.008917,   0.493587,  0.487001],\n",
    "                    [0.493587,  -0.008917,  0.487001],\n",
    "                    [0.494623,   0.494623,  0.980002]])\n",
    "\n",
    "def move_to_origin(struc):\n",
    "    \"\"\"\n",
    "    Moving an atom to the origin, and move all the atoms with the atom moving to the origin.\n",
    "\n",
    "    Returns:\n",
    "        new_structure : nx3 array of the updated fractional coordinate\n",
    "    \"\"\"\n",
    "    x = struc[0:1,0:1]\n",
    "    y = struc[0:1,1:2]\n",
    "    z = struc[0:1,2:3]\n",
    "    \n",
    "    new_x = struc[:,0:1] - x\n",
    "    new_y = struc[:,1:2] - y\n",
    "    new_z = struc[:,2:3] - z\n",
    "    new_struc = np.hstack((new_x, new_y, new_z))\n",
    "    return new_struc\n",
    "    \n",
    "print(move_to_origin(ini_struc))\n",
    "print(*[str(row)[1:-2] for row in move_to_origin(ini_struc)], sep='\\n')"
   ]
  },
  {
   "cell_type": "code",
   "execution_count": 11,
   "metadata": {},
   "outputs": [
    {
     "data": {
      "text/plain": [
       "array([[0.000485, 0.000485, 0.000444]])"
      ]
     },
     "execution_count": 11,
     "metadata": {},
     "output_type": "execute_result"
    }
   ],
   "source": [
    "ini_struc = np.array([[0.000485, 0.000485, 0.000444],\n",
    "                    [0.50634, 0.50634, 0.512425],\n",
    "                    [-0.0080, 0.494278, 0.487507],\n",
    "                    [0.494278, -0.0080, 0.487507],\n",
    "                    [0.495262, 0.495262, 0.980736]])\n",
    "\n",
    "ini_struc[0:1, :]\n"
   ]
  },
  {
   "cell_type": "code",
   "execution_count": 24,
   "metadata": {},
   "outputs": [
    {
     "data": {
      "text/plain": [
       "7.521843191210984"
      ]
     },
     "execution_count": 24,
     "metadata": {},
     "output_type": "execute_result"
    }
   ],
   "source": [
    "3.980388/0.5291772108"
   ]
  },
  {
   "cell_type": "code",
   "execution_count": null,
   "metadata": {},
   "outputs": [],
   "source": []
  }
 ],
 "metadata": {
  "kernelspec": {
   "display_name": "cphy",
   "language": "python",
   "name": "python3"
  },
  "language_info": {
   "codemirror_mode": {
    "name": "ipython",
    "version": 3
   },
   "file_extension": ".py",
   "mimetype": "text/x-python",
   "name": "python",
   "nbconvert_exporter": "python",
   "pygments_lexer": "ipython3",
   "version": "3.9.12"
  },
  "orig_nbformat": 4,
  "vscode": {
   "interpreter": {
    "hash": "294fe870d667f29bb8329f4a6fd5a7f18254710411467a21f756cf4167756012"
   }
  }
 },
 "nbformat": 4,
 "nbformat_minor": 2
}
