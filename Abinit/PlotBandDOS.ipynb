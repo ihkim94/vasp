{
 "cells": [
  {
   "cell_type": "code",
   "execution_count": 1,
   "metadata": {},
   "outputs": [
    {
     "ename": "ModuleNotFoundError",
     "evalue": "No module named 'abipy'",
     "output_type": "error",
     "traceback": [
      "\u001b[0;31m---------------------------------------------------------------------------\u001b[0m",
      "\u001b[0;31mModuleNotFoundError\u001b[0m                       Traceback (most recent call last)",
      "\u001b[1;32m/Users/inhwankim/Desktop/Code/dft/Abinit/PlotDOS.ipynb Cell 1\u001b[0m in \u001b[0;36m<cell line: 1>\u001b[0;34m()\u001b[0m\n\u001b[0;32m----> <a href='vscode-notebook-cell:/Users/inhwankim/Desktop/Code/dft/Abinit/PlotDOS.ipynb#W0sZmlsZQ%3D%3D?line=0'>1</a>\u001b[0m \u001b[39mfrom\u001b[39;00m \u001b[39mabipy\u001b[39;00m\u001b[39m.\u001b[39;00m\u001b[39mabilab\u001b[39;00m \u001b[39mimport\u001b[39;00m abiopen\n",
      "\u001b[0;31mModuleNotFoundError\u001b[0m: No module named 'abipy'"
     ]
    }
   ],
   "source": [
    "from abipy.abilab import abiopen\n",
    "import abipy.data as abidata\n",
    "\n",
    "# Open the file with energies computed on a k-path in the BZ\n",
    "# and extract the band structure object.\n",
    "with abiopen(\"lno_DOSo_DS2_GSR.nc\") as nscf_file:\n",
    "    nscf_ebands = nscf_file.ebands\n",
    "with abiopen(\"lno_DOSo_DS1_GSR.nc\") as gs_file:\n",
    "    gs_ebands = gs_file.ebands    \n",
    "    \n",
    "edos = gs_ebands.get_edos()\n",
    "\n",
    "nscf_ebands.plot_with_edos(edos, e0=None, with_gaps=True, title=\"LiNbO3 Electron bands + DOS\")\n"
   ]
  },
  {
   "cell_type": "code",
   "execution_count": null,
   "metadata": {},
   "outputs": [],
   "source": []
  }
 ],
 "metadata": {
  "kernelspec": {
   "display_name": "Python 3",
   "language": "python",
   "name": "python3"
  },
  "language_info": {
   "codemirror_mode": {
    "name": "ipython",
    "version": 3
   },
   "file_extension": ".py",
   "mimetype": "text/x-python",
   "name": "python",
   "nbconvert_exporter": "python",
   "pygments_lexer": "ipython3",
   "version": "3.10.5"
  },
  "orig_nbformat": 4,
  "vscode": {
   "interpreter": {
    "hash": "31f2aee4e71d21fbe5cf8b01ff0e069b9275f58929596ceb00d14d90e3e16cd6"
   }
  }
 },
 "nbformat": 4,
 "nbformat_minor": 2
}
