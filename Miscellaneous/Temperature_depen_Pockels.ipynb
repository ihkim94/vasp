{
 "cells": [
  {
   "cell_type": "code",
   "execution_count": 2,
   "metadata": {},
   "outputs": [],
   "source": [
    "import matplotlib.pyplot as plt\n",
    "import numpy as np\n",
    "import scienceplots\n",
    "\n",
    "plt.style.use(['science','nature'])\n"
   ]
  },
  {
   "cell_type": "code",
   "execution_count": null,
   "metadata": {},
   "outputs": [],
   "source": [
    "T = np.linspace(0, 500, 10000)  # Temperature in K.\n",
    "w = np.linspace(0, 400, 10000)  # Frequency in GHz.\n",
    "r_electronic = 1 # Electronic Pockels coeefficient is a constant. \n",
    "r_ionic = np.array([]) # Ionic Pockels coeefficient r_42 for tetragonal BaTiO3.\n",
    "r_piezo = \n",
    "\n",
    "r_total = r_electronic + r_ionic + r_piezo\n",
    "\n",
    "def T_aver_r(t):\n",
    "    y = \n",
    "    return y\n",
    "\n",
    "yy = T_aver_r(T)"
   ]
  },
  {
   "cell_type": "code",
   "execution_count": null,
   "metadata": {},
   "outputs": [],
   "source": [
    "plt.figure(figsize=(14, 8), dpi=300)  # Set DPI to 300\n",
    "plt.plot(T, yy)\n",
    "# plt.xlim(0, 400)\n",
    "plt.xlabel('freqeuncy (GHz)', fontsize=15)\n",
    "plt.ylabel(r'Pockels coefficient $r_{42}$ (pm/V)', fontsize=15)  # LaTeX syntax for fraction\n",
    "plt.tick_params(axis='both', which='major', labelsize=12)  # Increase tick number size\n",
    "# plt.title('Charge density')\n",
    "# plt.legend()\n",
    "\n",
    "\n",
    "plt.show()"
   ]
  }
 ],
 "metadata": {
  "kernelspec": {
   "display_name": "myenv",
   "language": "python",
   "name": "python3"
  },
  "language_info": {
   "codemirror_mode": {
    "name": "ipython",
    "version": 3
   },
   "file_extension": ".py",
   "mimetype": "text/x-python",
   "name": "python",
   "nbconvert_exporter": "python",
   "pygments_lexer": "ipython3",
   "version": "3.9.16"
  }
 },
 "nbformat": 4,
 "nbformat_minor": 2
}
