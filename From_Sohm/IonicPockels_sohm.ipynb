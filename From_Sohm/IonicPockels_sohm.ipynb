{
 "cells": [
  {
   "cell_type": "code",
   "execution_count": null,
   "metadata": {},
   "outputs": [],
   "source": [
    "%matplotlib ipympl\n",
    "import numpy as np\n",
    "from numpy import pi, sqrt\n",
    "import xml.etree.ElementTree as ET\n",
    "import ase.io\n",
    "from pymatgen.io.vasp.outputs import Vasprun\n",
    "import matplotlib.pyplot as plt\n",
    "import pandas as pd\n",
    "np.set_printoptions(suppress=True, threshold=np.inf)\n",
    "pd.options.display.max_rows = None"
   ]
  },
  {
   "cell_type": "markdown",
   "metadata": {},
   "source": [
    "# Helper Functions"
   ]
  },
  {
   "cell_type": "code",
   "execution_count": null,
   "metadata": {},
   "outputs": [],
   "source": [
    "def get_Born(vasprun_born='vasprun.xml', natom=45):\n",
    "    \"\"\"\n",
    "    Get Born effective charges from vasprun.xml.\n",
    "    \"\"\"\n",
    "\n",
    "    tree = ET.parse(vasprun_born)\n",
    "    root = tree.getroot()\n",
    "\n",
    "    born = np.zeros((natom,3,3))\n",
    "\n",
    "    x = root.findall(\"./calculation/array[@name='born_charges']/set/v\")\n",
    "    for i,j in enumerate(x):\n",
    "        born[i//3][i%3] = j.text.split()\n",
    "\n",
    "    asr = np.sum(born, axis=0) / natom      # violation of acoustic sum rule.\n",
    "    born = np.array([i-asr for i in born])\n",
    "\n",
    "    return born"
   ]
  },
  {
   "cell_type": "code",
   "execution_count": null,
   "metadata": {},
   "outputs": [],
   "source": [
    "def get_phonons(qpoint_file='qpoints.yaml', poscar='POSCAR'):\n",
    "    \"\"\"\n",
    "    Get phonon frequencies and eigen-displacements from finite differences in Phonopy or DFPT in VASP.    \n",
    "    \"\"\"\n",
    "    \n",
    "    # Using Phonopy:\n",
    "    # with open(qpoint_file, 'r') as file:\n",
    "    #     data = yaml.safe_load(file)\n",
    "\n",
    "    # freqs = []\n",
    "    # eigs = []\n",
    "    \n",
    "    # for band in data['phonon'][0]['band']:\n",
    "    #     freqs.append(band['frequency'])     # frequency of band\n",
    "    #     eig = np.array(band['eigenvector'])      # eigenvector of band\n",
    "    #     eig = eig[:,:,0]\n",
    "\n",
    "    #     structure = ase.io.read(poscar)\n",
    "    #     mass = structure.get_masses()\n",
    "    #     eig = eig / np.sqrt(np.tile(mass, (3,1)).T)     # eigendisplacements = eigenvectors / sqrt(mass).\n",
    "    #     eigs.append(eig)\n",
    "\n",
    "    # Using DFPT:\n",
    "    run = Vasprun(qpoint_file)\n",
    "    freqs = np.flip(np.sqrt(-run.normalmode_eigenvals))\n",
    "    eigs = np.flip(run.normalmode_eigenvecs, axis=0)\n",
    "\n",
    "    structure = ase.io.read(poscar)\n",
    "    mass = structure.get_masses()\n",
    "    eigs = eigs / np.sqrt(np.tile(mass, (3,1)).T)\n",
    "    \n",
    "\n",
    "    return (freqs, eigs)"
   ]
  },
  {
   "cell_type": "code",
   "execution_count": null,
   "metadata": {},
   "outputs": [],
   "source": [
    "def calculate_polarity(born, phonon):\n",
    "    \"\"\"\n",
    "    Calculate phonon mode polarity from mode eigen-displacements and Born effective charges.\n",
    "    \"\"\"\n",
    "    return np.einsum('ijk,ik->j', born, phonon)"
   ]
  },
  {
   "cell_type": "code",
   "execution_count": null,
   "metadata": {},
   "outputs": [],
   "source": [
    "def susceptibility_derivatives(disp=0.01, natoms=45):\n",
    "    \"\"\"\n",
    "    Calculate d chi / d tau using finite differences.\n",
    "    \"\"\"\n",
    "    d_chi_d_tau = []\n",
    "\n",
    "    for i in range(natoms*3):\n",
    "        out_m = Vasprun(\n",
    "            f\"{i}/minus/vasprun.xml\",\n",
    "            parse_dos=False,\n",
    "            parse_eigen=False,\n",
    "            parse_projected_eigen=False,\n",
    "            parse_potcar_file=False)\n",
    "        chi_m = (np.array(out_m.epsilon_static) - 1) / (4*np.pi)\n",
    "\n",
    "        out_p = Vasprun(\n",
    "            f\"{i}/plus/vasprun.xml\",\n",
    "            parse_dos=False,\n",
    "            parse_eigen=False,\n",
    "            parse_projected_eigen=False,\n",
    "            parse_potcar_file=False)\n",
    "        chi_p = (np.array(out_p.epsilon_static) - 1) / (4*np.pi)\n",
    "\n",
    "        d_chi_d_tau.append((chi_p - chi_m)/(2*disp))\n",
    "\n",
    "    d_chi_d_tau = np.array(d_chi_d_tau)\n",
    "    d_chi_d_tau = np.reshape(d_chi_d_tau, (natoms, 3, 3, 3))\n",
    "    asr = np.sum(d_chi_d_tau, axis=0) / natoms      # violation of acoustic sum rule.\n",
    "    for i in range(natoms):\n",
    "        d_chi_d_tau[i] = d_chi_d_tau[i] - asr\n",
    "\n",
    "    return d_chi_d_tau"
   ]
  },
  {
   "cell_type": "code",
   "execution_count": null,
   "metadata": {},
   "outputs": [],
   "source": [
    "def calculate_Raman(d_chi_d_tau, phonon):\n",
    "    \"\"\"\n",
    "    Calculate alpha from d_chi_d_tau and phonon eigen-displacements.\n",
    "    Note: This number needs to be multiplied by sqrt(volume) to get the real Raman susceptibility.\n",
    "    \"\"\"\n",
    "    return np.einsum('ijkl,ij->kl', d_chi_d_tau, phonon)"
   ]
  },
  {
   "cell_type": "code",
   "execution_count": null,
   "metadata": {},
   "outputs": [],
   "source": [
    "def to_voigt(r):\n",
    "    \"\"\"\n",
    "    Convert a 3x3x3 tensor to Voigt notation.\n",
    "    \"\"\"\n",
    "    r_voigt = np.zeros((6,3))\n",
    "    r_voigt[0,:] = r[0,0,:]\n",
    "    r_voigt[1,:] = r[1,1,:]\n",
    "    r_voigt[2,:] = r[2,2,:]\n",
    "    r_voigt[3,:] = (r[1,2,:] + r[2,1,:]) / 2\n",
    "    r_voigt[4,:] = (r[0,2,:] + r[2,0,:]) / 2\n",
    "    r_voigt[5,:] = (r[0,1,:] + r[1,0,:]) / 2\n",
    "    return r_voigt"
   ]
  },
  {
   "cell_type": "code",
   "execution_count": null,
   "metadata": {},
   "outputs": [],
   "source": [
    "def average_configs(r):\n",
    "    \"\"\"\n",
    "    Average over 4 orientations to enforce C4 symmetry.\n",
    "    Only applicable for SBN.\n",
    "    \"\"\"\n",
    "    def rotate_90(r):\n",
    "        rot = [[0,-1,0],[1,0,0],[0,0,1]]\n",
    "        return np.einsum('ai,bj,ck,ijk->abc', rot, rot, rot, r)\n",
    "    \n",
    "    return (r + rotate_90(r) + rotate_90(rotate_90(r)) + rotate_90(rotate_90(rotate_90(r)))) / 4"
   ]
  },
  {
   "cell_type": "markdown",
   "metadata": {},
   "source": [
    "# Ionic Pockels Tensor"
   ]
  },
  {
   "cell_type": "code",
   "execution_count": null,
   "metadata": {},
   "outputs": [],
   "source": [
    "# Get tensors:\n",
    "natom = 45\n",
    "\n",
    "born = get_Born(\"../../03-Dielectric/LDA_opt/vasprun.xml\", natom=natom)\n",
    "# freqs, eigs = get_phonons(qpoint_file=\"../../02-Phonons/1x1x3/qpoints.yaml\")    # Finite difference phonons.\n",
    "freqs, eigs = get_phonons(qpoint_file=\"../../02.2-Phonons_DFPT/LDA/vasprun.xml\")  # DFPT phonons.\n",
    "d_chi_d_tau = susceptibility_derivatives(0.01, 45)"
   ]
  },
  {
   "cell_type": "code",
   "execution_count": null,
   "metadata": {},
   "outputs": [],
   "source": [
    "# Calculate Pockels tensor and Raman susceptibility tensor:\n",
    "structure = ase.io.read(\"POSCAR\")\n",
    "V = structure.get_volume()\n",
    "\n",
    "run = Vasprun(\n",
    "            \"../../03-Dielectric/LDA_opt/vasprun.xml\", parse_dos=False,\n",
    "            parse_eigen=False,\n",
    "            parse_projected_eigen=False,\n",
    "            parse_potcar_file=False)\n",
    "n = 1/np.linalg.eigvals(run.epsilon_static)\n",
    "n = np.outer(n, n)\n",
    "\n",
    "r = np.zeros((natom*3-3,3,3,3))\n",
    "raman_tensors = np.zeros((natom*3-3,3,3))\n",
    "\n",
    "for i in range(natom*3-3):\n",
    "    polarity = calculate_polarity(born, eigs[i+3])\n",
    "    raman_tensor = calculate_Raman(d_chi_d_tau, eigs[i+3])\n",
    "    raman_tensors[i,:,:] = raman_tensor*sqrt(V)\n",
    "\n",
    "    r[i,:,:,:] = np.einsum('ij,k->ijk', raman_tensor*n, polarity)\n",
    "    r[i,:,:,:] = r[i,:,:,:] / freqs[i+3]**2\n",
    "\n",
    "\n",
    "# Unit conversion:\n",
    "# Conver r to atomic units used by Abinit.\n",
    "# 1 amu = 1822.89 m_e; 1 Angstrom = 1.88973 Bohr; 1 THz = 1.51982985E-4 Ha.\n",
    "r = r / (1822.89 * 1.88973 * 1.51982985E-4**2)\n",
    "# Convert r from atomic units to pm/V using formula found in Abinit source code. \n",
    "eps0 = 1 / (4*pi*0.0000001*299792458.0**2)\n",
    "e_Cb = 1.602176487e-19\n",
    "Bohr_Ang = 0.52917720859\n",
    "fac = -16*pi*pi*eps0*(Bohr_Ang**2)*1.0E-8/(e_Cb)\n",
    "r = r * fac\n",
    "\n",
    "r = [average_configs(r[i]) for i in range(len(r))]  # Average over 4 orientations to enforce C4 symmetry.\n",
    "r = [to_voigt(r[i]) for i in range(len(r))]\n",
    "r_total = np.sum(r[1:], axis=0)\n",
    "np.savetxt('r_total.csv', r_total, delimiter=',')\n",
    "r_total"
   ]
  },
  {
   "cell_type": "code",
   "execution_count": null,
   "metadata": {},
   "outputs": [],
   "source": [
    "# Plot r_33 and alpha_33:\n",
    "plt.close()\n",
    "fig, ax1 = plt.subplots()\n",
    "ax1.plot([np.abs(raman_tensors[i][2,2]) for i in range(len(raman_tensors))][1:], color='blue')\n",
    "ax2 = ax1.twinx()\n",
    "ax2.plot([r[i][2,2] for i in range(len(r))][1:], color='orange')\n",
    "ax1.set_xlabel('Mode number')\n",
    "ax1.set_ylabel('alpha', color='blue')\n",
    "ax2.set_ylabel('r', color='orange')"
   ]
  }
 ],
 "metadata": {
  "kernelspec": {
   "display_name": "base",
   "language": "python",
   "name": "python3"
  },
  "language_info": {
   "codemirror_mode": {
    "name": "ipython",
    "version": 3
   },
   "file_extension": ".py",
   "mimetype": "text/x-python",
   "name": "python",
   "nbconvert_exporter": "python",
   "pygments_lexer": "ipython3",
   "version": "3.9.16"
  },
  "orig_nbformat": 4
 },
 "nbformat": 4,
 "nbformat_minor": 2
}
